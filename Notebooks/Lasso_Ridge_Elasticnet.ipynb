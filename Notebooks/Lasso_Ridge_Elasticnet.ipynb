{
 "cells": [
  {
   "cell_type": "code",
   "execution_count": 2,
   "id": "b1a2a749-1d2a-4320-ac68-2efab5268023",
   "metadata": {},
   "outputs": [],
   "source": [
    "import pandas as pd\n",
    "import numpy as np\n",
    "import seaborn as sns\n",
    "import matplotlib.pyplot as plt\n",
    "%matplotlib inline"
   ]
  },
  {
   "cell_type": "code",
   "execution_count": 4,
   "id": "ead4e199-e564-4e3a-a410-552801e512f4",
   "metadata": {},
   "outputs": [],
   "source": [
    "df = pd.read_csv('Algerian_forest_fires_cleaned_dataset.csv')"
   ]
  },
  {
   "cell_type": "code",
   "execution_count": 5,
   "id": "cc658ae8-0b06-4ff8-9149-a855a6898d99",
   "metadata": {},
   "outputs": [
    {
     "data": {
      "text/html": [
       "<div>\n",
       "<style scoped>\n",
       "    .dataframe tbody tr th:only-of-type {\n",
       "        vertical-align: middle;\n",
       "    }\n",
       "\n",
       "    .dataframe tbody tr th {\n",
       "        vertical-align: top;\n",
       "    }\n",
       "\n",
       "    .dataframe thead th {\n",
       "        text-align: right;\n",
       "    }\n",
       "</style>\n",
       "<table border=\"1\" class=\"dataframe\">\n",
       "  <thead>\n",
       "    <tr style=\"text-align: right;\">\n",
       "      <th></th>\n",
       "      <th>day</th>\n",
       "      <th>month</th>\n",
       "      <th>year</th>\n",
       "      <th>Temperature</th>\n",
       "      <th>RH</th>\n",
       "      <th>Ws</th>\n",
       "      <th>Rain</th>\n",
       "      <th>FFMC</th>\n",
       "      <th>DMC</th>\n",
       "      <th>DC</th>\n",
       "      <th>ISI</th>\n",
       "      <th>BUI</th>\n",
       "      <th>FWI</th>\n",
       "      <th>Classes</th>\n",
       "      <th>Region</th>\n",
       "    </tr>\n",
       "  </thead>\n",
       "  <tbody>\n",
       "    <tr>\n",
       "      <th>0</th>\n",
       "      <td>1</td>\n",
       "      <td>6</td>\n",
       "      <td>2012</td>\n",
       "      <td>29</td>\n",
       "      <td>57</td>\n",
       "      <td>18</td>\n",
       "      <td>0.0</td>\n",
       "      <td>65.7</td>\n",
       "      <td>3.4</td>\n",
       "      <td>7.6</td>\n",
       "      <td>1.3</td>\n",
       "      <td>3.4</td>\n",
       "      <td>0.5</td>\n",
       "      <td>not fire</td>\n",
       "      <td>0</td>\n",
       "    </tr>\n",
       "    <tr>\n",
       "      <th>1</th>\n",
       "      <td>2</td>\n",
       "      <td>6</td>\n",
       "      <td>2012</td>\n",
       "      <td>29</td>\n",
       "      <td>61</td>\n",
       "      <td>13</td>\n",
       "      <td>1.3</td>\n",
       "      <td>64.4</td>\n",
       "      <td>4.1</td>\n",
       "      <td>7.6</td>\n",
       "      <td>1.0</td>\n",
       "      <td>3.9</td>\n",
       "      <td>0.4</td>\n",
       "      <td>not fire</td>\n",
       "      <td>0</td>\n",
       "    </tr>\n",
       "    <tr>\n",
       "      <th>2</th>\n",
       "      <td>3</td>\n",
       "      <td>6</td>\n",
       "      <td>2012</td>\n",
       "      <td>26</td>\n",
       "      <td>82</td>\n",
       "      <td>22</td>\n",
       "      <td>13.1</td>\n",
       "      <td>47.1</td>\n",
       "      <td>2.5</td>\n",
       "      <td>7.1</td>\n",
       "      <td>0.3</td>\n",
       "      <td>2.7</td>\n",
       "      <td>0.1</td>\n",
       "      <td>not fire</td>\n",
       "      <td>0</td>\n",
       "    </tr>\n",
       "    <tr>\n",
       "      <th>3</th>\n",
       "      <td>4</td>\n",
       "      <td>6</td>\n",
       "      <td>2012</td>\n",
       "      <td>25</td>\n",
       "      <td>89</td>\n",
       "      <td>13</td>\n",
       "      <td>2.5</td>\n",
       "      <td>28.6</td>\n",
       "      <td>1.3</td>\n",
       "      <td>6.9</td>\n",
       "      <td>0.0</td>\n",
       "      <td>1.7</td>\n",
       "      <td>0.0</td>\n",
       "      <td>not fire</td>\n",
       "      <td>0</td>\n",
       "    </tr>\n",
       "    <tr>\n",
       "      <th>4</th>\n",
       "      <td>5</td>\n",
       "      <td>6</td>\n",
       "      <td>2012</td>\n",
       "      <td>27</td>\n",
       "      <td>77</td>\n",
       "      <td>16</td>\n",
       "      <td>0.0</td>\n",
       "      <td>64.8</td>\n",
       "      <td>3.0</td>\n",
       "      <td>14.2</td>\n",
       "      <td>1.2</td>\n",
       "      <td>3.9</td>\n",
       "      <td>0.5</td>\n",
       "      <td>not fire</td>\n",
       "      <td>0</td>\n",
       "    </tr>\n",
       "  </tbody>\n",
       "</table>\n",
       "</div>"
      ],
      "text/plain": [
       "   day  month  year  Temperature  RH  Ws  Rain  FFMC  DMC    DC  ISI  BUI  \\\n",
       "0    1      6  2012           29  57  18   0.0  65.7  3.4   7.6  1.3  3.4   \n",
       "1    2      6  2012           29  61  13   1.3  64.4  4.1   7.6  1.0  3.9   \n",
       "2    3      6  2012           26  82  22  13.1  47.1  2.5   7.1  0.3  2.7   \n",
       "3    4      6  2012           25  89  13   2.5  28.6  1.3   6.9  0.0  1.7   \n",
       "4    5      6  2012           27  77  16   0.0  64.8  3.0  14.2  1.2  3.9   \n",
       "\n",
       "   FWI      Classes  Region  \n",
       "0  0.5  not fire          0  \n",
       "1  0.4  not fire          0  \n",
       "2  0.1  not fire          0  \n",
       "3  0.0  not fire          0  \n",
       "4  0.5  not fire          0  "
      ]
     },
     "execution_count": 5,
     "metadata": {},
     "output_type": "execute_result"
    }
   ],
   "source": [
    "df.head()"
   ]
  },
  {
   "cell_type": "code",
   "execution_count": 6,
   "id": "8b088cc5-062a-40c7-81eb-f79f4b5b8b67",
   "metadata": {},
   "outputs": [
    {
     "data": {
      "text/plain": [
       "Index(['day', 'month', 'year', 'Temperature', 'RH', 'Ws', 'Rain', 'FFMC',\n",
       "       'DMC', 'DC', 'ISI', 'BUI', 'FWI', 'Classes', 'Region'],\n",
       "      dtype='object')"
      ]
     },
     "execution_count": 6,
     "metadata": {},
     "output_type": "execute_result"
    }
   ],
   "source": [
    "df.columns"
   ]
  },
  {
   "cell_type": "code",
   "execution_count": 7,
   "id": "30046653-f4df-46c4-9dc7-0586175cc14b",
   "metadata": {},
   "outputs": [],
   "source": [
    "df.drop(['day', 'month', 'year'],axis=1,inplace=True)"
   ]
  },
  {
   "cell_type": "code",
   "execution_count": 8,
   "id": "7d48357c-4f6c-4115-a2d7-3465243fa0a7",
   "metadata": {},
   "outputs": [
    {
     "data": {
      "text/html": [
       "<div>\n",
       "<style scoped>\n",
       "    .dataframe tbody tr th:only-of-type {\n",
       "        vertical-align: middle;\n",
       "    }\n",
       "\n",
       "    .dataframe tbody tr th {\n",
       "        vertical-align: top;\n",
       "    }\n",
       "\n",
       "    .dataframe thead th {\n",
       "        text-align: right;\n",
       "    }\n",
       "</style>\n",
       "<table border=\"1\" class=\"dataframe\">\n",
       "  <thead>\n",
       "    <tr style=\"text-align: right;\">\n",
       "      <th></th>\n",
       "      <th>Temperature</th>\n",
       "      <th>RH</th>\n",
       "      <th>Ws</th>\n",
       "      <th>Rain</th>\n",
       "      <th>FFMC</th>\n",
       "      <th>DMC</th>\n",
       "      <th>DC</th>\n",
       "      <th>ISI</th>\n",
       "      <th>BUI</th>\n",
       "      <th>FWI</th>\n",
       "      <th>Classes</th>\n",
       "      <th>Region</th>\n",
       "    </tr>\n",
       "  </thead>\n",
       "  <tbody>\n",
       "    <tr>\n",
       "      <th>0</th>\n",
       "      <td>29</td>\n",
       "      <td>57</td>\n",
       "      <td>18</td>\n",
       "      <td>0.0</td>\n",
       "      <td>65.7</td>\n",
       "      <td>3.4</td>\n",
       "      <td>7.6</td>\n",
       "      <td>1.3</td>\n",
       "      <td>3.4</td>\n",
       "      <td>0.5</td>\n",
       "      <td>not fire</td>\n",
       "      <td>0</td>\n",
       "    </tr>\n",
       "    <tr>\n",
       "      <th>1</th>\n",
       "      <td>29</td>\n",
       "      <td>61</td>\n",
       "      <td>13</td>\n",
       "      <td>1.3</td>\n",
       "      <td>64.4</td>\n",
       "      <td>4.1</td>\n",
       "      <td>7.6</td>\n",
       "      <td>1.0</td>\n",
       "      <td>3.9</td>\n",
       "      <td>0.4</td>\n",
       "      <td>not fire</td>\n",
       "      <td>0</td>\n",
       "    </tr>\n",
       "    <tr>\n",
       "      <th>2</th>\n",
       "      <td>26</td>\n",
       "      <td>82</td>\n",
       "      <td>22</td>\n",
       "      <td>13.1</td>\n",
       "      <td>47.1</td>\n",
       "      <td>2.5</td>\n",
       "      <td>7.1</td>\n",
       "      <td>0.3</td>\n",
       "      <td>2.7</td>\n",
       "      <td>0.1</td>\n",
       "      <td>not fire</td>\n",
       "      <td>0</td>\n",
       "    </tr>\n",
       "    <tr>\n",
       "      <th>3</th>\n",
       "      <td>25</td>\n",
       "      <td>89</td>\n",
       "      <td>13</td>\n",
       "      <td>2.5</td>\n",
       "      <td>28.6</td>\n",
       "      <td>1.3</td>\n",
       "      <td>6.9</td>\n",
       "      <td>0.0</td>\n",
       "      <td>1.7</td>\n",
       "      <td>0.0</td>\n",
       "      <td>not fire</td>\n",
       "      <td>0</td>\n",
       "    </tr>\n",
       "    <tr>\n",
       "      <th>4</th>\n",
       "      <td>27</td>\n",
       "      <td>77</td>\n",
       "      <td>16</td>\n",
       "      <td>0.0</td>\n",
       "      <td>64.8</td>\n",
       "      <td>3.0</td>\n",
       "      <td>14.2</td>\n",
       "      <td>1.2</td>\n",
       "      <td>3.9</td>\n",
       "      <td>0.5</td>\n",
       "      <td>not fire</td>\n",
       "      <td>0</td>\n",
       "    </tr>\n",
       "  </tbody>\n",
       "</table>\n",
       "</div>"
      ],
      "text/plain": [
       "   Temperature  RH  Ws  Rain  FFMC  DMC    DC  ISI  BUI  FWI      Classes  \\\n",
       "0           29  57  18   0.0  65.7  3.4   7.6  1.3  3.4  0.5  not fire      \n",
       "1           29  61  13   1.3  64.4  4.1   7.6  1.0  3.9  0.4  not fire      \n",
       "2           26  82  22  13.1  47.1  2.5   7.1  0.3  2.7  0.1  not fire      \n",
       "3           25  89  13   2.5  28.6  1.3   6.9  0.0  1.7  0.0  not fire      \n",
       "4           27  77  16   0.0  64.8  3.0  14.2  1.2  3.9  0.5  not fire      \n",
       "\n",
       "   Region  \n",
       "0       0  \n",
       "1       0  \n",
       "2       0  \n",
       "3       0  \n",
       "4       0  "
      ]
     },
     "execution_count": 8,
     "metadata": {},
     "output_type": "execute_result"
    }
   ],
   "source": [
    "df.head()"
   ]
  },
  {
   "cell_type": "code",
   "execution_count": 10,
   "id": "dc66efc5-a928-498e-9a1b-d1ad51f35e4c",
   "metadata": {},
   "outputs": [
    {
     "name": "stdout",
     "output_type": "stream",
     "text": [
      "<class 'pandas.core.frame.DataFrame'>\n",
      "RangeIndex: 243 entries, 0 to 242\n",
      "Data columns (total 12 columns):\n",
      " #   Column       Non-Null Count  Dtype  \n",
      "---  ------       --------------  -----  \n",
      " 0   Temperature  243 non-null    int64  \n",
      " 1   RH           243 non-null    int64  \n",
      " 2   Ws           243 non-null    int64  \n",
      " 3   Rain         243 non-null    float64\n",
      " 4   FFMC         243 non-null    float64\n",
      " 5   DMC          243 non-null    float64\n",
      " 6   DC           243 non-null    float64\n",
      " 7   ISI          243 non-null    float64\n",
      " 8   BUI          243 non-null    float64\n",
      " 9   FWI          243 non-null    float64\n",
      " 10  Classes      243 non-null    object \n",
      " 11  Region       243 non-null    int64  \n",
      "dtypes: float64(7), int64(4), object(1)\n",
      "memory usage: 22.9+ KB\n"
     ]
    }
   ],
   "source": [
    "df.info()"
   ]
  },
  {
   "cell_type": "code",
   "execution_count": 11,
   "id": "94e230c1-79cd-4f27-9433-875b862adcd1",
   "metadata": {},
   "outputs": [
    {
     "data": {
      "text/plain": [
       "fire             131\n",
       "not fire         101\n",
       "fire               4\n",
       "fire               2\n",
       "not fire           2\n",
       "not fire           1\n",
       "not fire           1\n",
       "not fire           1\n",
       "Name: Classes, dtype: int64"
      ]
     },
     "execution_count": 11,
     "metadata": {},
     "output_type": "execute_result"
    }
   ],
   "source": [
    "df['Classes'].value_counts()"
   ]
  },
  {
   "cell_type": "code",
   "execution_count": 13,
   "id": "9bf369c3-5129-4e41-9581-e72f7101e0d5",
   "metadata": {},
   "outputs": [],
   "source": [
    "df['Classes'] = np.where(df['Classes'].str.contains('not fire'),0,1)"
   ]
  },
  {
   "cell_type": "code",
   "execution_count": 14,
   "id": "fb084b4e-19f3-4bf6-ab3d-038f284c51e8",
   "metadata": {},
   "outputs": [
    {
     "data": {
      "text/html": [
       "<div>\n",
       "<style scoped>\n",
       "    .dataframe tbody tr th:only-of-type {\n",
       "        vertical-align: middle;\n",
       "    }\n",
       "\n",
       "    .dataframe tbody tr th {\n",
       "        vertical-align: top;\n",
       "    }\n",
       "\n",
       "    .dataframe thead th {\n",
       "        text-align: right;\n",
       "    }\n",
       "</style>\n",
       "<table border=\"1\" class=\"dataframe\">\n",
       "  <thead>\n",
       "    <tr style=\"text-align: right;\">\n",
       "      <th></th>\n",
       "      <th>Temperature</th>\n",
       "      <th>RH</th>\n",
       "      <th>Ws</th>\n",
       "      <th>Rain</th>\n",
       "      <th>FFMC</th>\n",
       "      <th>DMC</th>\n",
       "      <th>DC</th>\n",
       "      <th>ISI</th>\n",
       "      <th>BUI</th>\n",
       "      <th>FWI</th>\n",
       "      <th>Classes</th>\n",
       "      <th>Region</th>\n",
       "    </tr>\n",
       "  </thead>\n",
       "  <tbody>\n",
       "    <tr>\n",
       "      <th>0</th>\n",
       "      <td>29</td>\n",
       "      <td>57</td>\n",
       "      <td>18</td>\n",
       "      <td>0.0</td>\n",
       "      <td>65.7</td>\n",
       "      <td>3.4</td>\n",
       "      <td>7.6</td>\n",
       "      <td>1.3</td>\n",
       "      <td>3.4</td>\n",
       "      <td>0.5</td>\n",
       "      <td>0</td>\n",
       "      <td>0</td>\n",
       "    </tr>\n",
       "    <tr>\n",
       "      <th>1</th>\n",
       "      <td>29</td>\n",
       "      <td>61</td>\n",
       "      <td>13</td>\n",
       "      <td>1.3</td>\n",
       "      <td>64.4</td>\n",
       "      <td>4.1</td>\n",
       "      <td>7.6</td>\n",
       "      <td>1.0</td>\n",
       "      <td>3.9</td>\n",
       "      <td>0.4</td>\n",
       "      <td>0</td>\n",
       "      <td>0</td>\n",
       "    </tr>\n",
       "    <tr>\n",
       "      <th>2</th>\n",
       "      <td>26</td>\n",
       "      <td>82</td>\n",
       "      <td>22</td>\n",
       "      <td>13.1</td>\n",
       "      <td>47.1</td>\n",
       "      <td>2.5</td>\n",
       "      <td>7.1</td>\n",
       "      <td>0.3</td>\n",
       "      <td>2.7</td>\n",
       "      <td>0.1</td>\n",
       "      <td>0</td>\n",
       "      <td>0</td>\n",
       "    </tr>\n",
       "    <tr>\n",
       "      <th>3</th>\n",
       "      <td>25</td>\n",
       "      <td>89</td>\n",
       "      <td>13</td>\n",
       "      <td>2.5</td>\n",
       "      <td>28.6</td>\n",
       "      <td>1.3</td>\n",
       "      <td>6.9</td>\n",
       "      <td>0.0</td>\n",
       "      <td>1.7</td>\n",
       "      <td>0.0</td>\n",
       "      <td>0</td>\n",
       "      <td>0</td>\n",
       "    </tr>\n",
       "    <tr>\n",
       "      <th>4</th>\n",
       "      <td>27</td>\n",
       "      <td>77</td>\n",
       "      <td>16</td>\n",
       "      <td>0.0</td>\n",
       "      <td>64.8</td>\n",
       "      <td>3.0</td>\n",
       "      <td>14.2</td>\n",
       "      <td>1.2</td>\n",
       "      <td>3.9</td>\n",
       "      <td>0.5</td>\n",
       "      <td>0</td>\n",
       "      <td>0</td>\n",
       "    </tr>\n",
       "  </tbody>\n",
       "</table>\n",
       "</div>"
      ],
      "text/plain": [
       "   Temperature  RH  Ws  Rain  FFMC  DMC    DC  ISI  BUI  FWI  Classes  Region\n",
       "0           29  57  18   0.0  65.7  3.4   7.6  1.3  3.4  0.5        0       0\n",
       "1           29  61  13   1.3  64.4  4.1   7.6  1.0  3.9  0.4        0       0\n",
       "2           26  82  22  13.1  47.1  2.5   7.1  0.3  2.7  0.1        0       0\n",
       "3           25  89  13   2.5  28.6  1.3   6.9  0.0  1.7  0.0        0       0\n",
       "4           27  77  16   0.0  64.8  3.0  14.2  1.2  3.9  0.5        0       0"
      ]
     },
     "execution_count": 14,
     "metadata": {},
     "output_type": "execute_result"
    }
   ],
   "source": [
    "df.head()"
   ]
  },
  {
   "cell_type": "code",
   "execution_count": 15,
   "id": "28833121-8916-4dda-a893-4fe8b5bc6869",
   "metadata": {},
   "outputs": [
    {
     "data": {
      "text/html": [
       "<div>\n",
       "<style scoped>\n",
       "    .dataframe tbody tr th:only-of-type {\n",
       "        vertical-align: middle;\n",
       "    }\n",
       "\n",
       "    .dataframe tbody tr th {\n",
       "        vertical-align: top;\n",
       "    }\n",
       "\n",
       "    .dataframe thead th {\n",
       "        text-align: right;\n",
       "    }\n",
       "</style>\n",
       "<table border=\"1\" class=\"dataframe\">\n",
       "  <thead>\n",
       "    <tr style=\"text-align: right;\">\n",
       "      <th></th>\n",
       "      <th>Temperature</th>\n",
       "      <th>RH</th>\n",
       "      <th>Ws</th>\n",
       "      <th>Rain</th>\n",
       "      <th>FFMC</th>\n",
       "      <th>DMC</th>\n",
       "      <th>DC</th>\n",
       "      <th>ISI</th>\n",
       "      <th>BUI</th>\n",
       "      <th>FWI</th>\n",
       "      <th>Classes</th>\n",
       "      <th>Region</th>\n",
       "    </tr>\n",
       "  </thead>\n",
       "  <tbody>\n",
       "    <tr>\n",
       "      <th>238</th>\n",
       "      <td>30</td>\n",
       "      <td>65</td>\n",
       "      <td>14</td>\n",
       "      <td>0.0</td>\n",
       "      <td>85.4</td>\n",
       "      <td>16.0</td>\n",
       "      <td>44.5</td>\n",
       "      <td>4.5</td>\n",
       "      <td>16.9</td>\n",
       "      <td>6.5</td>\n",
       "      <td>1</td>\n",
       "      <td>1</td>\n",
       "    </tr>\n",
       "    <tr>\n",
       "      <th>239</th>\n",
       "      <td>28</td>\n",
       "      <td>87</td>\n",
       "      <td>15</td>\n",
       "      <td>4.4</td>\n",
       "      <td>41.1</td>\n",
       "      <td>6.5</td>\n",
       "      <td>8.0</td>\n",
       "      <td>0.1</td>\n",
       "      <td>6.2</td>\n",
       "      <td>0.0</td>\n",
       "      <td>0</td>\n",
       "      <td>1</td>\n",
       "    </tr>\n",
       "    <tr>\n",
       "      <th>240</th>\n",
       "      <td>27</td>\n",
       "      <td>87</td>\n",
       "      <td>29</td>\n",
       "      <td>0.5</td>\n",
       "      <td>45.9</td>\n",
       "      <td>3.5</td>\n",
       "      <td>7.9</td>\n",
       "      <td>0.4</td>\n",
       "      <td>3.4</td>\n",
       "      <td>0.2</td>\n",
       "      <td>0</td>\n",
       "      <td>1</td>\n",
       "    </tr>\n",
       "    <tr>\n",
       "      <th>241</th>\n",
       "      <td>24</td>\n",
       "      <td>54</td>\n",
       "      <td>18</td>\n",
       "      <td>0.1</td>\n",
       "      <td>79.7</td>\n",
       "      <td>4.3</td>\n",
       "      <td>15.2</td>\n",
       "      <td>1.7</td>\n",
       "      <td>5.1</td>\n",
       "      <td>0.7</td>\n",
       "      <td>0</td>\n",
       "      <td>1</td>\n",
       "    </tr>\n",
       "    <tr>\n",
       "      <th>242</th>\n",
       "      <td>24</td>\n",
       "      <td>64</td>\n",
       "      <td>15</td>\n",
       "      <td>0.2</td>\n",
       "      <td>67.3</td>\n",
       "      <td>3.8</td>\n",
       "      <td>16.5</td>\n",
       "      <td>1.2</td>\n",
       "      <td>4.8</td>\n",
       "      <td>0.5</td>\n",
       "      <td>0</td>\n",
       "      <td>1</td>\n",
       "    </tr>\n",
       "  </tbody>\n",
       "</table>\n",
       "</div>"
      ],
      "text/plain": [
       "     Temperature  RH  Ws  Rain  FFMC   DMC    DC  ISI   BUI  FWI  Classes  \\\n",
       "238           30  65  14   0.0  85.4  16.0  44.5  4.5  16.9  6.5        1   \n",
       "239           28  87  15   4.4  41.1   6.5   8.0  0.1   6.2  0.0        0   \n",
       "240           27  87  29   0.5  45.9   3.5   7.9  0.4   3.4  0.2        0   \n",
       "241           24  54  18   0.1  79.7   4.3  15.2  1.7   5.1  0.7        0   \n",
       "242           24  64  15   0.2  67.3   3.8  16.5  1.2   4.8  0.5        0   \n",
       "\n",
       "     Region  \n",
       "238       1  \n",
       "239       1  \n",
       "240       1  \n",
       "241       1  \n",
       "242       1  "
      ]
     },
     "execution_count": 15,
     "metadata": {},
     "output_type": "execute_result"
    }
   ],
   "source": [
    "df.tail()"
   ]
  },
  {
   "cell_type": "code",
   "execution_count": 16,
   "id": "c76f08b2-c7a2-4b20-bcd0-6f90a442776c",
   "metadata": {},
   "outputs": [
    {
     "data": {
      "text/plain": [
       "1    137\n",
       "0    106\n",
       "Name: Classes, dtype: int64"
      ]
     },
     "execution_count": 16,
     "metadata": {},
     "output_type": "execute_result"
    }
   ],
   "source": [
    "df['Classes'].value_counts()"
   ]
  },
  {
   "cell_type": "code",
   "execution_count": 19,
   "id": "3a4f52c6-c739-4dda-815c-8d9b8cae8742",
   "metadata": {},
   "outputs": [],
   "source": [
    "# Independent and dependent features\n",
    "X = df.drop('FWI',axis=1)\n",
    "Y = df['FWI']"
   ]
  },
  {
   "cell_type": "code",
   "execution_count": 21,
   "id": "fb2b6455-66a0-4a2a-bfe7-33e944b36634",
   "metadata": {},
   "outputs": [
    {
     "data": {
      "text/html": [
       "<div>\n",
       "<style scoped>\n",
       "    .dataframe tbody tr th:only-of-type {\n",
       "        vertical-align: middle;\n",
       "    }\n",
       "\n",
       "    .dataframe tbody tr th {\n",
       "        vertical-align: top;\n",
       "    }\n",
       "\n",
       "    .dataframe thead th {\n",
       "        text-align: right;\n",
       "    }\n",
       "</style>\n",
       "<table border=\"1\" class=\"dataframe\">\n",
       "  <thead>\n",
       "    <tr style=\"text-align: right;\">\n",
       "      <th></th>\n",
       "      <th>Temperature</th>\n",
       "      <th>RH</th>\n",
       "      <th>Ws</th>\n",
       "      <th>Rain</th>\n",
       "      <th>FFMC</th>\n",
       "      <th>DMC</th>\n",
       "      <th>DC</th>\n",
       "      <th>ISI</th>\n",
       "      <th>BUI</th>\n",
       "      <th>Classes</th>\n",
       "      <th>Region</th>\n",
       "    </tr>\n",
       "  </thead>\n",
       "  <tbody>\n",
       "    <tr>\n",
       "      <th>0</th>\n",
       "      <td>29</td>\n",
       "      <td>57</td>\n",
       "      <td>18</td>\n",
       "      <td>0.0</td>\n",
       "      <td>65.7</td>\n",
       "      <td>3.4</td>\n",
       "      <td>7.6</td>\n",
       "      <td>1.3</td>\n",
       "      <td>3.4</td>\n",
       "      <td>0</td>\n",
       "      <td>0</td>\n",
       "    </tr>\n",
       "    <tr>\n",
       "      <th>1</th>\n",
       "      <td>29</td>\n",
       "      <td>61</td>\n",
       "      <td>13</td>\n",
       "      <td>1.3</td>\n",
       "      <td>64.4</td>\n",
       "      <td>4.1</td>\n",
       "      <td>7.6</td>\n",
       "      <td>1.0</td>\n",
       "      <td>3.9</td>\n",
       "      <td>0</td>\n",
       "      <td>0</td>\n",
       "    </tr>\n",
       "    <tr>\n",
       "      <th>2</th>\n",
       "      <td>26</td>\n",
       "      <td>82</td>\n",
       "      <td>22</td>\n",
       "      <td>13.1</td>\n",
       "      <td>47.1</td>\n",
       "      <td>2.5</td>\n",
       "      <td>7.1</td>\n",
       "      <td>0.3</td>\n",
       "      <td>2.7</td>\n",
       "      <td>0</td>\n",
       "      <td>0</td>\n",
       "    </tr>\n",
       "    <tr>\n",
       "      <th>3</th>\n",
       "      <td>25</td>\n",
       "      <td>89</td>\n",
       "      <td>13</td>\n",
       "      <td>2.5</td>\n",
       "      <td>28.6</td>\n",
       "      <td>1.3</td>\n",
       "      <td>6.9</td>\n",
       "      <td>0.0</td>\n",
       "      <td>1.7</td>\n",
       "      <td>0</td>\n",
       "      <td>0</td>\n",
       "    </tr>\n",
       "    <tr>\n",
       "      <th>4</th>\n",
       "      <td>27</td>\n",
       "      <td>77</td>\n",
       "      <td>16</td>\n",
       "      <td>0.0</td>\n",
       "      <td>64.8</td>\n",
       "      <td>3.0</td>\n",
       "      <td>14.2</td>\n",
       "      <td>1.2</td>\n",
       "      <td>3.9</td>\n",
       "      <td>0</td>\n",
       "      <td>0</td>\n",
       "    </tr>\n",
       "  </tbody>\n",
       "</table>\n",
       "</div>"
      ],
      "text/plain": [
       "   Temperature  RH  Ws  Rain  FFMC  DMC    DC  ISI  BUI  Classes  Region\n",
       "0           29  57  18   0.0  65.7  3.4   7.6  1.3  3.4        0       0\n",
       "1           29  61  13   1.3  64.4  4.1   7.6  1.0  3.9        0       0\n",
       "2           26  82  22  13.1  47.1  2.5   7.1  0.3  2.7        0       0\n",
       "3           25  89  13   2.5  28.6  1.3   6.9  0.0  1.7        0       0\n",
       "4           27  77  16   0.0  64.8  3.0  14.2  1.2  3.9        0       0"
      ]
     },
     "execution_count": 21,
     "metadata": {},
     "output_type": "execute_result"
    }
   ],
   "source": [
    "X.head()"
   ]
  },
  {
   "cell_type": "code",
   "execution_count": 23,
   "id": "b87b552a-7100-4379-95d1-140751977637",
   "metadata": {},
   "outputs": [
    {
     "data": {
      "text/plain": [
       "0      0.5\n",
       "1      0.4\n",
       "2      0.1\n",
       "3      0.0\n",
       "4      0.5\n",
       "      ... \n",
       "238    6.5\n",
       "239    0.0\n",
       "240    0.2\n",
       "241    0.7\n",
       "242    0.5\n",
       "Name: FWI, Length: 243, dtype: float64"
      ]
     },
     "execution_count": 23,
     "metadata": {},
     "output_type": "execute_result"
    }
   ],
   "source": [
    "Y"
   ]
  },
  {
   "cell_type": "code",
   "execution_count": 26,
   "id": "1339ce86-b028-45fe-b3d7-406806a01461",
   "metadata": {},
   "outputs": [],
   "source": [
    "# Train Test Split\n",
    "from sklearn.model_selection import train_test_split\n",
    "X_Train,X_Test,Y_Train,Y_Test = train_test_split(X,Y,test_size=0.30,random_state=30)"
   ]
  },
  {
   "cell_type": "code",
   "execution_count": 28,
   "id": "ee2a254b-4340-43e3-b57b-46be325eb11e",
   "metadata": {},
   "outputs": [
    {
     "data": {
      "text/plain": [
       "((170, 11), (73, 11), (170,), (73,))"
      ]
     },
     "execution_count": 28,
     "metadata": {},
     "output_type": "execute_result"
    }
   ],
   "source": [
    "X_Train.shape,X_Test.shape,Y_Train.shape,Y_Test.shape"
   ]
  },
  {
   "cell_type": "code",
   "execution_count": 30,
   "id": "99e1865c-afa7-463a-b093-77417b9bfcd3",
   "metadata": {},
   "outputs": [
    {
     "data": {
      "text/html": [
       "<div>\n",
       "<style scoped>\n",
       "    .dataframe tbody tr th:only-of-type {\n",
       "        vertical-align: middle;\n",
       "    }\n",
       "\n",
       "    .dataframe tbody tr th {\n",
       "        vertical-align: top;\n",
       "    }\n",
       "\n",
       "    .dataframe thead th {\n",
       "        text-align: right;\n",
       "    }\n",
       "</style>\n",
       "<table border=\"1\" class=\"dataframe\">\n",
       "  <thead>\n",
       "    <tr style=\"text-align: right;\">\n",
       "      <th></th>\n",
       "      <th>Temperature</th>\n",
       "      <th>RH</th>\n",
       "      <th>Ws</th>\n",
       "      <th>Rain</th>\n",
       "      <th>FFMC</th>\n",
       "      <th>DMC</th>\n",
       "      <th>DC</th>\n",
       "      <th>ISI</th>\n",
       "      <th>BUI</th>\n",
       "      <th>Classes</th>\n",
       "      <th>Region</th>\n",
       "    </tr>\n",
       "  </thead>\n",
       "  <tbody>\n",
       "    <tr>\n",
       "      <th>Temperature</th>\n",
       "      <td>1.000000</td>\n",
       "      <td>-0.680511</td>\n",
       "      <td>-0.353781</td>\n",
       "      <td>-0.359767</td>\n",
       "      <td>0.706423</td>\n",
       "      <td>0.504617</td>\n",
       "      <td>0.374539</td>\n",
       "      <td>0.646884</td>\n",
       "      <td>0.469434</td>\n",
       "      <td>0.583507</td>\n",
       "      <td>0.304277</td>\n",
       "    </tr>\n",
       "    <tr>\n",
       "      <th>RH</th>\n",
       "      <td>-0.680511</td>\n",
       "      <td>1.000000</td>\n",
       "      <td>0.329457</td>\n",
       "      <td>0.248497</td>\n",
       "      <td>-0.670860</td>\n",
       "      <td>-0.372601</td>\n",
       "      <td>-0.201218</td>\n",
       "      <td>-0.678407</td>\n",
       "      <td>-0.319051</td>\n",
       "      <td>-0.443531</td>\n",
       "      <td>-0.396691</td>\n",
       "    </tr>\n",
       "    <tr>\n",
       "      <th>Ws</th>\n",
       "      <td>-0.353781</td>\n",
       "      <td>0.329457</td>\n",
       "      <td>1.000000</td>\n",
       "      <td>0.272493</td>\n",
       "      <td>-0.260949</td>\n",
       "      <td>-0.043918</td>\n",
       "      <td>0.049011</td>\n",
       "      <td>-0.073933</td>\n",
       "      <td>-0.007250</td>\n",
       "      <td>-0.140771</td>\n",
       "      <td>-0.254189</td>\n",
       "    </tr>\n",
       "    <tr>\n",
       "      <th>Rain</th>\n",
       "      <td>-0.359767</td>\n",
       "      <td>0.248497</td>\n",
       "      <td>0.272493</td>\n",
       "      <td>1.000000</td>\n",
       "      <td>-0.514223</td>\n",
       "      <td>-0.268453</td>\n",
       "      <td>-0.276262</td>\n",
       "      <td>-0.330196</td>\n",
       "      <td>-0.275369</td>\n",
       "      <td>-0.366965</td>\n",
       "      <td>-0.096182</td>\n",
       "    </tr>\n",
       "    <tr>\n",
       "      <th>FFMC</th>\n",
       "      <td>0.706423</td>\n",
       "      <td>-0.670860</td>\n",
       "      <td>-0.260949</td>\n",
       "      <td>-0.514223</td>\n",
       "      <td>1.000000</td>\n",
       "      <td>0.610920</td>\n",
       "      <td>0.499881</td>\n",
       "      <td>0.733006</td>\n",
       "      <td>0.591010</td>\n",
       "      <td>0.759164</td>\n",
       "      <td>0.262087</td>\n",
       "    </tr>\n",
       "    <tr>\n",
       "      <th>DMC</th>\n",
       "      <td>0.504617</td>\n",
       "      <td>-0.372601</td>\n",
       "      <td>-0.043918</td>\n",
       "      <td>-0.268453</td>\n",
       "      <td>0.610920</td>\n",
       "      <td>1.000000</td>\n",
       "      <td>0.889092</td>\n",
       "      <td>0.654857</td>\n",
       "      <td>0.982737</td>\n",
       "      <td>0.609549</td>\n",
       "      <td>0.178406</td>\n",
       "    </tr>\n",
       "    <tr>\n",
       "      <th>DC</th>\n",
       "      <td>0.374539</td>\n",
       "      <td>-0.201218</td>\n",
       "      <td>0.049011</td>\n",
       "      <td>-0.276262</td>\n",
       "      <td>0.499881</td>\n",
       "      <td>0.889092</td>\n",
       "      <td>1.000000</td>\n",
       "      <td>0.492245</td>\n",
       "      <td>0.946298</td>\n",
       "      <td>0.518022</td>\n",
       "      <td>-0.101963</td>\n",
       "    </tr>\n",
       "    <tr>\n",
       "      <th>ISI</th>\n",
       "      <td>0.646884</td>\n",
       "      <td>-0.678407</td>\n",
       "      <td>-0.073933</td>\n",
       "      <td>-0.330196</td>\n",
       "      <td>0.733006</td>\n",
       "      <td>0.654857</td>\n",
       "      <td>0.492245</td>\n",
       "      <td>1.000000</td>\n",
       "      <td>0.620205</td>\n",
       "      <td>0.740130</td>\n",
       "      <td>0.271323</td>\n",
       "    </tr>\n",
       "    <tr>\n",
       "      <th>BUI</th>\n",
       "      <td>0.469434</td>\n",
       "      <td>-0.319051</td>\n",
       "      <td>-0.007250</td>\n",
       "      <td>-0.275369</td>\n",
       "      <td>0.591010</td>\n",
       "      <td>0.982737</td>\n",
       "      <td>0.946298</td>\n",
       "      <td>0.620205</td>\n",
       "      <td>1.000000</td>\n",
       "      <td>0.604086</td>\n",
       "      <td>0.067930</td>\n",
       "    </tr>\n",
       "    <tr>\n",
       "      <th>Classes</th>\n",
       "      <td>0.583507</td>\n",
       "      <td>-0.443531</td>\n",
       "      <td>-0.140771</td>\n",
       "      <td>-0.366965</td>\n",
       "      <td>0.759164</td>\n",
       "      <td>0.609549</td>\n",
       "      <td>0.518022</td>\n",
       "      <td>0.740130</td>\n",
       "      <td>0.604086</td>\n",
       "      <td>1.000000</td>\n",
       "      <td>0.223556</td>\n",
       "    </tr>\n",
       "    <tr>\n",
       "      <th>Region</th>\n",
       "      <td>0.304277</td>\n",
       "      <td>-0.396691</td>\n",
       "      <td>-0.254189</td>\n",
       "      <td>-0.096182</td>\n",
       "      <td>0.262087</td>\n",
       "      <td>0.178406</td>\n",
       "      <td>-0.101963</td>\n",
       "      <td>0.271323</td>\n",
       "      <td>0.067930</td>\n",
       "      <td>0.223556</td>\n",
       "      <td>1.000000</td>\n",
       "    </tr>\n",
       "  </tbody>\n",
       "</table>\n",
       "</div>"
      ],
      "text/plain": [
       "             Temperature        RH        Ws      Rain      FFMC       DMC  \\\n",
       "Temperature     1.000000 -0.680511 -0.353781 -0.359767  0.706423  0.504617   \n",
       "RH             -0.680511  1.000000  0.329457  0.248497 -0.670860 -0.372601   \n",
       "Ws             -0.353781  0.329457  1.000000  0.272493 -0.260949 -0.043918   \n",
       "Rain           -0.359767  0.248497  0.272493  1.000000 -0.514223 -0.268453   \n",
       "FFMC            0.706423 -0.670860 -0.260949 -0.514223  1.000000  0.610920   \n",
       "DMC             0.504617 -0.372601 -0.043918 -0.268453  0.610920  1.000000   \n",
       "DC              0.374539 -0.201218  0.049011 -0.276262  0.499881  0.889092   \n",
       "ISI             0.646884 -0.678407 -0.073933 -0.330196  0.733006  0.654857   \n",
       "BUI             0.469434 -0.319051 -0.007250 -0.275369  0.591010  0.982737   \n",
       "Classes         0.583507 -0.443531 -0.140771 -0.366965  0.759164  0.609549   \n",
       "Region          0.304277 -0.396691 -0.254189 -0.096182  0.262087  0.178406   \n",
       "\n",
       "                   DC       ISI       BUI   Classes    Region  \n",
       "Temperature  0.374539  0.646884  0.469434  0.583507  0.304277  \n",
       "RH          -0.201218 -0.678407 -0.319051 -0.443531 -0.396691  \n",
       "Ws           0.049011 -0.073933 -0.007250 -0.140771 -0.254189  \n",
       "Rain        -0.276262 -0.330196 -0.275369 -0.366965 -0.096182  \n",
       "FFMC         0.499881  0.733006  0.591010  0.759164  0.262087  \n",
       "DMC          0.889092  0.654857  0.982737  0.609549  0.178406  \n",
       "DC           1.000000  0.492245  0.946298  0.518022 -0.101963  \n",
       "ISI          0.492245  1.000000  0.620205  0.740130  0.271323  \n",
       "BUI          0.946298  0.620205  1.000000  0.604086  0.067930  \n",
       "Classes      0.518022  0.740130  0.604086  1.000000  0.223556  \n",
       "Region      -0.101963  0.271323  0.067930  0.223556  1.000000  "
      ]
     },
     "execution_count": 30,
     "metadata": {},
     "output_type": "execute_result"
    }
   ],
   "source": [
    "## Feature selection based on correlation\n",
    "X_Train.corr()"
   ]
  },
  {
   "cell_type": "markdown",
   "id": "29630909-6840-4d96-b2f4-3a7fad592fef",
   "metadata": {},
   "source": [
    "# Feature Selection"
   ]
  },
  {
   "cell_type": "code",
   "execution_count": 35,
   "id": "2fd9b3a9-cacb-497c-a035-9023f3d3ccda",
   "metadata": {},
   "outputs": [
    {
     "data": {
      "text/plain": [
       "<AxesSubplot: >"
      ]
     },
     "execution_count": 35,
     "metadata": {},
     "output_type": "execute_result"
    },
    {
     "data": {
      "image/png": "[encoded data removed]",
      "text/plain": [
       "<Figure size 1000x1000 with 2 Axes>"
      ]
     },
     "metadata": {},
     "output_type": "display_data"
    }
   ],
   "source": [
    "## check for multicollinearity\n",
    "plt.figure(figsize = (10,10))\n",
    "corr = X_Train.corr()\n",
    "sns.heatmap(corr,annot=True)"
   ]
  },
  {
   "cell_type": "code",
   "execution_count": 36,
   "id": "7f267804-bb54-44a7-8433-b2359510d612",
   "metadata": {},
   "outputs": [
    {
     "data": {
      "text/html": [
       "<div>\n",
       "<style scoped>\n",
       "    .dataframe tbody tr th:only-of-type {\n",
       "        vertical-align: middle;\n",
       "    }\n",
       "\n",
       "    .dataframe tbody tr th {\n",
       "        vertical-align: top;\n",
       "    }\n",
       "\n",
       "    .dataframe thead th {\n",
       "        text-align: right;\n",
       "    }\n",
       "</style>\n",
       "<table border=\"1\" class=\"dataframe\">\n",
       "  <thead>\n",
       "    <tr style=\"text-align: right;\">\n",
       "      <th></th>\n",
       "      <th>Temperature</th>\n",
       "      <th>RH</th>\n",
       "      <th>Ws</th>\n",
       "      <th>Rain</th>\n",
       "      <th>FFMC</th>\n",
       "      <th>DMC</th>\n",
       "      <th>DC</th>\n",
       "      <th>ISI</th>\n",
       "      <th>BUI</th>\n",
       "      <th>Classes</th>\n",
       "      <th>Region</th>\n",
       "    </tr>\n",
       "  </thead>\n",
       "  <tbody>\n",
       "    <tr>\n",
       "      <th>Temperature</th>\n",
       "      <td>1.000000</td>\n",
       "      <td>-0.680511</td>\n",
       "      <td>-0.353781</td>\n",
       "      <td>-0.359767</td>\n",
       "      <td>0.706423</td>\n",
       "      <td>0.504617</td>\n",
       "      <td>0.374539</td>\n",
       "      <td>0.646884</td>\n",
       "      <td>0.469434</td>\n",
       "      <td>0.583507</td>\n",
       "      <td>0.304277</td>\n",
       "    </tr>\n",
       "    <tr>\n",
       "      <th>RH</th>\n",
       "      <td>-0.680511</td>\n",
       "      <td>1.000000</td>\n",
       "      <td>0.329457</td>\n",
       "      <td>0.248497</td>\n",
       "      <td>-0.670860</td>\n",
       "      <td>-0.372601</td>\n",
       "      <td>-0.201218</td>\n",
       "      <td>-0.678407</td>\n",
       "      <td>-0.319051</td>\n",
       "      <td>-0.443531</td>\n",
       "      <td>-0.396691</td>\n",
       "    </tr>\n",
       "    <tr>\n",
       "      <th>Ws</th>\n",
       "      <td>-0.353781</td>\n",
       "      <td>0.329457</td>\n",
       "      <td>1.000000</td>\n",
       "      <td>0.272493</td>\n",
       "      <td>-0.260949</td>\n",
       "      <td>-0.043918</td>\n",
       "      <td>0.049011</td>\n",
       "      <td>-0.073933</td>\n",
       "      <td>-0.007250</td>\n",
       "      <td>-0.140771</td>\n",
       "      <td>-0.254189</td>\n",
       "    </tr>\n",
       "    <tr>\n",
       "      <th>Rain</th>\n",
       "      <td>-0.359767</td>\n",
       "      <td>0.248497</td>\n",
       "      <td>0.272493</td>\n",
       "      <td>1.000000</td>\n",
       "      <td>-0.514223</td>\n",
       "      <td>-0.268453</td>\n",
       "      <td>-0.276262</td>\n",
       "      <td>-0.330196</td>\n",
       "      <td>-0.275369</td>\n",
       "      <td>-0.366965</td>\n",
       "      <td>-0.096182</td>\n",
       "    </tr>\n",
       "    <tr>\n",
       "      <th>FFMC</th>\n",
       "      <td>0.706423</td>\n",
       "      <td>-0.670860</td>\n",
       "      <td>-0.260949</td>\n",
       "      <td>-0.514223</td>\n",
       "      <td>1.000000</td>\n",
       "      <td>0.610920</td>\n",
       "      <td>0.499881</td>\n",
       "      <td>0.733006</td>\n",
       "      <td>0.591010</td>\n",
       "      <td>0.759164</td>\n",
       "      <td>0.262087</td>\n",
       "    </tr>\n",
       "    <tr>\n",
       "      <th>DMC</th>\n",
       "      <td>0.504617</td>\n",
       "      <td>-0.372601</td>\n",
       "      <td>-0.043918</td>\n",
       "      <td>-0.268453</td>\n",
       "      <td>0.610920</td>\n",
       "      <td>1.000000</td>\n",
       "      <td>0.889092</td>\n",
       "      <td>0.654857</td>\n",
       "      <td>0.982737</td>\n",
       "      <td>0.609549</td>\n",
       "      <td>0.178406</td>\n",
       "    </tr>\n",
       "    <tr>\n",
       "      <th>DC</th>\n",
       "      <td>0.374539</td>\n",
       "      <td>-0.201218</td>\n",
       "      <td>0.049011</td>\n",
       "      <td>-0.276262</td>\n",
       "      <td>0.499881</td>\n",
       "      <td>0.889092</td>\n",
       "      <td>1.000000</td>\n",
       "      <td>0.492245</td>\n",
       "      <td>0.946298</td>\n",
       "      <td>0.518022</td>\n",
       "      <td>-0.101963</td>\n",
       "    </tr>\n",
       "    <tr>\n",
       "      <th>ISI</th>\n",
       "      <td>0.646884</td>\n",
       "      <td>-0.678407</td>\n",
       "      <td>-0.073933</td>\n",
       "      <td>-0.330196</td>\n",
       "      <td>0.733006</td>\n",
       "      <td>0.654857</td>\n",
       "      <td>0.492245</td>\n",
       "      <td>1.000000</td>\n",
       "      <td>0.620205</td>\n",
       "      <td>0.740130</td>\n",
       "      <td>0.271323</td>\n",
       "    </tr>\n",
       "    <tr>\n",
       "      <th>BUI</th>\n",
       "      <td>0.469434</td>\n",
       "      <td>-0.319051</td>\n",
       "      <td>-0.007250</td>\n",
       "      <td>-0.275369</td>\n",
       "      <td>0.591010</td>\n",
       "      <td>0.982737</td>\n",
       "      <td>0.946298</td>\n",
       "      <td>0.620205</td>\n",
       "      <td>1.000000</td>\n",
       "      <td>0.604086</td>\n",
       "      <td>0.067930</td>\n",
       "    </tr>\n",
       "    <tr>\n",
       "      <th>Classes</th>\n",
       "      <td>0.583507</td>\n",
       "      <td>-0.443531</td>\n",
       "      <td>-0.140771</td>\n",
       "      <td>-0.366965</td>\n",
       "      <td>0.759164</td>\n",
       "      <td>0.609549</td>\n",
       "      <td>0.518022</td>\n",
       "      <td>0.740130</td>\n",
       "      <td>0.604086</td>\n",
       "      <td>1.000000</td>\n",
       "      <td>0.223556</td>\n",
       "    </tr>\n",
       "    <tr>\n",
       "      <th>Region</th>\n",
       "      <td>0.304277</td>\n",
       "      <td>-0.396691</td>\n",
       "      <td>-0.254189</td>\n",
       "      <td>-0.096182</td>\n",
       "      <td>0.262087</td>\n",
       "      <td>0.178406</td>\n",
       "      <td>-0.101963</td>\n",
       "      <td>0.271323</td>\n",
       "      <td>0.067930</td>\n",
       "      <td>0.223556</td>\n",
       "      <td>1.000000</td>\n",
       "    </tr>\n",
       "  </tbody>\n",
       "</table>\n",
       "</div>"
      ],
      "text/plain": [
       "             Temperature        RH        Ws      Rain      FFMC       DMC  \\\n",
       "Temperature     1.000000 -0.680511 -0.353781 -0.359767  0.706423  0.504617   \n",
       "RH             -0.680511  1.000000  0.329457  0.248497 -0.670860 -0.372601   \n",
       "Ws             -0.353781  0.329457  1.000000  0.272493 -0.260949 -0.043918   \n",
       "Rain           -0.359767  0.248497  0.272493  1.000000 -0.514223 -0.268453   \n",
       "FFMC            0.706423 -0.670860 -0.260949 -0.514223  1.000000  0.610920   \n",
       "DMC             0.504617 -0.372601 -0.043918 -0.268453  0.610920  1.000000   \n",
       "DC              0.374539 -0.201218  0.049011 -0.276262  0.499881  0.889092   \n",
       "ISI             0.646884 -0.678407 -0.073933 -0.330196  0.733006  0.654857   \n",
       "BUI             0.469434 -0.319051 -0.007250 -0.275369  0.591010  0.982737   \n",
       "Classes         0.583507 -0.443531 -0.140771 -0.366965  0.759164  0.609549   \n",
       "Region          0.304277 -0.396691 -0.254189 -0.096182  0.262087  0.178406   \n",
       "\n",
       "                   DC       ISI       BUI   Classes    Region  \n",
       "Temperature  0.374539  0.646884  0.469434  0.583507  0.304277  \n",
       "RH          -0.201218 -0.678407 -0.319051 -0.443531 -0.396691  \n",
       "Ws           0.049011 -0.073933 -0.007250 -0.140771 -0.254189  \n",
       "Rain        -0.276262 -0.330196 -0.275369 -0.366965 -0.096182  \n",
       "FFMC         0.499881  0.733006  0.591010  0.759164  0.262087  \n",
       "DMC          0.889092  0.654857  0.982737  0.609549  0.178406  \n",
       "DC           1.000000  0.492245  0.946298  0.518022 -0.101963  \n",
       "ISI          0.492245  1.000000  0.620205  0.740130  0.271323  \n",
       "BUI          0.946298  0.620205  1.000000  0.604086  0.067930  \n",
       "Classes      0.518022  0.740130  0.604086  1.000000  0.223556  \n",
       "Region      -0.101963  0.271323  0.067930  0.223556  1.000000  "
      ]
     },
     "execution_count": 36,
     "metadata": {},
     "output_type": "execute_result"
    }
   ],
   "source": [
    "X_Train.corr()"
   ]
  },
  {
   "cell_type": "code",
   "execution_count": 57,
   "id": "a03323b3-a878-47fe-a789-7b29c97c73b2",
   "metadata": {},
   "outputs": [],
   "source": [
    "def correlation(dataset,threshold):\n",
    "    col_corr = set()\n",
    "    corr_matrix = dataset.corr()\n",
    "    for i in range(len(corr_matrix.columns)):\n",
    "        for j in range(i):\n",
    "            if abs(corr_matrix.iloc[i,j] > threshold):\n",
    "                col_name = corr_matrix.columns[i]\n",
    "                col_corr.add(col_name)\n",
    "    return col_corr"
   ]
  },
  {
   "cell_type": "code",
   "execution_count": 58,
   "id": "6305613f-0363-42a3-a89c-4f5c513cb116",
   "metadata": {},
   "outputs": [],
   "source": [
    "# threshold -- Domain Expertise\n",
    "corr_features = correlation(X_Train,0.85)"
   ]
  },
  {
   "cell_type": "code",
   "execution_count": 59,
   "id": "789dc915-da4c-4917-bc64-fb192f43f1fc",
   "metadata": {},
   "outputs": [
    {
     "data": {
      "text/plain": [
       "set()"
      ]
     },
     "execution_count": 59,
     "metadata": {},
     "output_type": "execute_result"
    }
   ],
   "source": [
    "corr_features"
   ]
  },
  {
   "cell_type": "code",
   "execution_count": 60,
   "id": "87f596f6-5779-4146-bc82-e63641eb1993",
   "metadata": {},
   "outputs": [
    {
     "data": {
      "text/plain": [
       "((170, 9), (73, 9))"
      ]
     },
     "execution_count": 60,
     "metadata": {},
     "output_type": "execute_result"
    }
   ],
   "source": [
    "## drop features when correlation is more than 0.85\n",
    "X_Train.drop(corr_features,axis = 1,inplace=True)\n",
    "X_Test.drop(corr_features,axis = 1,inplace=True)\n",
    "X_Train.shape,X_Test.shape"
   ]
  },
  {
   "cell_type": "markdown",
   "id": "c362104c-33e9-4302-924a-f231224de2d3",
   "metadata": {},
   "source": [
    "## Feature Scailing or Standardization"
   ]
  },
  {
   "cell_type": "code",
   "execution_count": 65,
   "id": "df959a10-76e4-455f-97d1-579e7713d1bf",
   "metadata": {},
   "outputs": [],
   "source": [
    "from sklearn.preprocessing import StandardScaler\n",
    "scaler = StandardScaler()\n",
    "X_Train_Scaled = scaler.fit_transform(X_Train)\n",
    "X_Test_Scaled = scaler.transform(X_Test)"
   ]
  },
  {
   "cell_type": "code",
   "execution_count": 66,
   "id": "0c71ccd6-722d-4f4b-bff1-d9408fb3c45e",
   "metadata": {},
   "outputs": [
    {
     "data": {
      "text/plain": [
       "array([[-0.36287686,  0.69993475, -0.54192804, ..., -0.93968675,\n",
       "        -1.11213403,  0.98830369],\n",
       "       [ 0.72415515, -0.35598456, -0.54192804, ..., -0.62674105,\n",
       "        -1.11213403,  0.98830369],\n",
       "       [ 0.72415515, -1.14792405,  0.48551917, ...,  0.1676596 ,\n",
       "         0.8991722 ,  0.98830369],\n",
       "       ...,\n",
       "       [-0.36287686,  0.6339398 ,  0.48551917, ...,  0.52875081,\n",
       "         0.8991722 ,  0.98830369],\n",
       "       [ 0.45239715, -1.0819291 ,  0.48551917, ...,  1.49166068,\n",
       "         0.8991722 ,  0.98830369],\n",
       "       [ 0.18063914,  0.43595492,  1.17048398, ...,  0.31209608,\n",
       "         0.8991722 , -1.01183473]])"
      ]
     },
     "execution_count": 66,
     "metadata": {},
     "output_type": "execute_result"
    }
   ],
   "source": [
    "X_Train_Scaled"
   ]
  },
  {
   "cell_type": "markdown",
   "id": "dc152606-44c2-42bc-a9ee-e511fdc60774",
   "metadata": {},
   "source": [
    "# Box Plot to understand Effect of Standard Scaler\n"
   ]
  },
  {
   "cell_type": "code",
   "execution_count": 77,
   "id": "786827b4-a5bf-4314-9c98-04a8822e5cc9",
   "metadata": {},
   "outputs": [
    {
     "name": "stderr",
     "output_type": "stream",
     "text": [
      "/tmp/ipykernel_637/1776589555.py:2: MatplotlibDeprecationWarning: Auto-removal of overlapping axes is deprecated since 3.6 and will be removed two minor releases later; explicitly call ax.remove() as needed.\n",
      "  plt.subplot(1,2,1)\n"
     ]
    },
    {
     "data": {
      "text/plain": [
       "Text(0.5, 1.0, 'X_Train After scailing')"
      ]
     },
     "execution_count": 77,
     "metadata": {},
     "output_type": "execute_result"
    },
    {
     "data": {
      "image/png": "[encoded data removed]",
      "text/plain": [
       "<Figure size 1500x500 with 2 Axes>"
      ]
     },
     "metadata": {},
     "output_type": "display_data"
    }
   ],
   "source": [
    "plt.subplots(figsize=(15,5))\n",
    "plt.subplot(1,2,1)\n",
    "sns.boxplot(X_Train)\n",
    "plt.title('X_Train Before scailing')\n",
    "plt.subplot(1,2,2)\n",
    "sns.boxplot(X_Train_Scaled)\n",
    "plt.title('X_Train After scailing')"
   ]
  },
  {
   "cell_type": "code",
   "execution_count": 78,
   "id": "35561091-176d-4930-80fd-69bb804d7fe4",
   "metadata": {},
   "outputs": [
    {
     "name": "stderr",
     "output_type": "stream",
     "text": [
      "/tmp/ipykernel_637/2812880772.py:2: MatplotlibDeprecationWarning: Auto-removal of overlapping axes is deprecated since 3.6 and will be removed two minor releases later; explicitly call ax.remove() as needed.\n",
      "  plt.subplot(1,2,1)\n"
     ]
    },
    {
     "data": {
      "text/plain": [
       "Text(0.5, 1.0, 'X_Test After scailing')"
      ]
     },
     "execution_count": 78,
     "metadata": {},
     "output_type": "execute_result"
    },
    {
     "data": {
      "image/png": "[encoded data removed]",
      "text/plain": [
       "<Figure size 1500x500 with 2 Axes>"
      ]
     },
     "metadata": {},
     "output_type": "display_data"
    }
   ],
   "source": [
    "plt.subplots(figsize=(15,5))\n",
    "plt.subplot(1,2,1)\n",
    "sns.boxplot(X_Test)\n",
    "plt.title('X_Test Before scailing')\n",
    "plt.subplot(1,2,2)\n",
    "sns.boxplot(X_Test_Scaled)\n",
    "plt.title('X_Test After scailing')"
   ]
  },
  {
   "cell_type": "markdown",
   "id": "4b263e60-1a58-42aa-8f32-f261df66f40c",
   "metadata": {},
   "source": [
    "# Linear Regression Model"
   ]
  },
  {
   "cell_type": "code",
   "execution_count": 86,
   "id": "e8b3d98b-f2c0-42b4-9571-1d59d9993f0a",
   "metadata": {},
   "outputs": [
    {
     "name": "stdout",
     "output_type": "stream",
     "text": [
      "Mean Absolute Error : 0.7204915449552219\n",
      "R2 Square : 0.9847628209157613\n"
     ]
    }
   ],
   "source": [
    "from sklearn.linear_model import LinearRegression\n",
    "from sklearn.metrics import  mean_absolute_error\n",
    "from sklearn.metrics import r2_score\n",
    "regression = LinearRegression()\n",
    "regression.fit(X_Train_Scaled,Y_Train)\n",
    "y_pred = regression.predict(X_Test_Scaled)\n",
    "mae = mean_absolute_error(Y_Test,y_pred)\n",
    "score = r2_score(Y_Test,y_pred)\n",
    "print('Mean Absolute Error :',mae)\n",
    "print('R2 Square :',score)"
   ]
  },
  {
   "cell_type": "markdown",
   "id": "62174587-3fe2-4042-86d7-37ae2055d9fe",
   "metadata": {},
   "source": [
    "# Lasso Regression"
   ]
  },
  {
   "cell_type": "code",
   "execution_count": 87,
   "id": "ea9169a6-dd40-4b46-b704-0d3db3b28f90",
   "metadata": {},
   "outputs": [
    {
     "name": "stdout",
     "output_type": "stream",
     "text": [
      "Mean Absolute Error : 1.2931080232773482\n",
      "R2 Square : 0.9478412164174974\n"
     ]
    }
   ],
   "source": [
    "from sklearn.linear_model import Lasso\n",
    "from sklearn.metrics import  mean_absolute_error\n",
    "from sklearn.metrics import r2_score\n",
    "lasso = Lasso()\n",
    "lasso.fit(X_Train_Scaled,Y_Train)\n",
    "y_pred = lasso.predict(X_Test_Scaled)\n",
    "mae = mean_absolute_error(Y_Test,y_pred)\n",
    "score = r2_score(Y_Test,y_pred)\n",
    "print('Mean Absolute Error :',mae)\n",
    "print('R2 Square :',score)"
   ]
  },
  {
   "cell_type": "markdown",
   "id": "18ee36f8-b5a0-49e7-8569-5bd657955415",
   "metadata": {},
   "source": [
    "# Ridge Regression\n"
   ]
  },
  {
   "cell_type": "code",
   "execution_count": 88,
   "id": "762a8bf3-cd07-44ed-9c49-dc7935466f97",
   "metadata": {},
   "outputs": [
    {
     "name": "stdout",
     "output_type": "stream",
     "text": [
      "Mean Absolute Error : 0.7339970288336102\n",
      "R2 Square : 0.984205352857649\n"
     ]
    }
   ],
   "source": [
    "from sklearn.linear_model import Ridge\n",
    "from sklearn.metrics import  mean_absolute_error\n",
    "from sklearn.metrics import r2_score\n",
    "ridge = Ridge()\n",
    "ridge.fit(X_Train_Scaled,Y_Train)\n",
    "y_pred = ridge.predict(X_Test_Scaled)\n",
    "mae = mean_absolute_error(Y_Test,y_pred)\n",
    "score = r2_score(Y_Test,y_pred)\n",
    "print('Mean Absolute Error :',mae)\n",
    "print('R2 Square :',score)"
   ]
  },
  {
   "cell_type": "markdown",
   "id": "d807e467-aff4-4db2-be33-9dd11cf1a948",
   "metadata": {},
   "source": [
    "# Elasticnet Regression"
   ]
  },
  {
   "cell_type": "code",
   "execution_count": 89,
   "id": "f6987715-5428-4afd-8f17-7d1a60435624",
   "metadata": {},
   "outputs": [
    {
     "name": "stdout",
     "output_type": "stream",
     "text": [
      "Mean Absolute Error : 1.9161388195215037\n",
      "R2 Square : 0.8758127464167961\n"
     ]
    }
   ],
   "source": [
    "from sklearn.linear_model import ElasticNet\n",
    "from sklearn.metrics import  mean_absolute_error\n",
    "from sklearn.metrics import r2_score\n",
    "elasticnet = ElasticNet()\n",
    "elasticnet.fit(X_Train_Scaled,Y_Train)\n",
    "y_pred = elasticnet.predict(X_Test_Scaled)\n",
    "mae = mean_absolute_error(Y_Test,y_pred)\n",
    "score = r2_score(Y_Test,y_pred)\n",
    "print('Mean Absolute Error :',mae)\n",
    "print('R2 Square :',score)"
   ]
  },
  {
   "cell_type": "markdown",
   "id": "2f162ba4-d784-4e4d-8916-cadac1fbbb4e",
   "metadata": {},
   "source": [
    "# pickling"
   ]
  },
  {
   "cell_type": "code",
   "execution_count": 91,
   "id": "b1fed90f-ac06-4fd7-bcd3-d4abe6ec5ab1",
   "metadata": {},
   "outputs": [],
   "source": [
    "import pickle\n",
    "pickle.dump(scaler,open('Scaler.pkl','wb'))\n",
    "pickle.dump(ridge,open('Ridge.pkl','wb'))"
   ]
  },
  {
   "cell_type": "code",
   "execution_count": null,
   "id": "5821dc74-ad59-40d3-838e-76ec8497ff8b",
   "metadata": {},
   "outputs": [],
   "source": []
  }
 ],
 "metadata": {
  "kernelspec": {
   "display_name": "Python 3 (ipykernel)",
   "language": "python",
   "name": "python3"
  },
  "language_info": {
   "codemirror_mode": {
    "name": "ipython",
    "version": 3
   },
   "file_extension": ".py",
   "mimetype": "text/x-python",
   "name": "python",
   "nbconvert_exporter": "python",
   "pygments_lexer": "ipython3",
   "version": "3.10.8"
  }
 },
 "nbformat": 4,
 "nbformat_minor": 5
}
